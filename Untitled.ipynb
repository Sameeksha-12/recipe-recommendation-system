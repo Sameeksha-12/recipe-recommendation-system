{
 "cells": [
  {
   "cell_type": "code",
   "execution_count": 1,
   "id": "5f80b4c0-ea1c-4a95-94a8-3112acaedbc4",
   "metadata": {},
   "outputs": [
    {
     "name": "stdout",
     "output_type": "stream",
     "text": [
      "                                                name  \\\n",
      "0  Doddapatre Tambuli Recipe (Karpooravalli Thayi...   \n",
      "1                               Fish Tandoori Recipe   \n",
      "2  Arbi Shimla Mirch Sabzi Recipe – Colocasia Cap...   \n",
      "3                   Ambur Style Brinjal Curry Recipe   \n",
      "4  Mavinakayi Menasinakai Curry Recipe  - Raw Man...   \n",
      "\n",
      "                                         description               cuisine  \\\n",
      "0  Doddapatre Tambuli Recipe is a popular healing...                Indian   \n",
      "1  Have you ever tried out fish tandoori? Trust m...  North Indian Recipes   \n",
      "2  Arbi Shimla Mirch Sabzi Recipe is a variation ...  North Indian Recipes   \n",
      "3  Brinjal Curry is prepared in different ways in...                Indian   \n",
      "4  Mangalorean Mavinakayi Menasinakai Curry Recip...           Mangalorean   \n",
      "\n",
      "        course                          diet      prep_time  \\\n",
      "0    Side Dish                    Vegetarian  Total in 30 M   \n",
      "1    Appetizer   High Protein Non Vegetarian  Total in 80 M   \n",
      "2  Main Course  No Onion No Garlic (Sattvic)  Total in 55 M   \n",
      "3        Lunch                    Vegetarian  Total in 20 M   \n",
      "4    Side Dish                    Vegetarian  Total in 35 M   \n",
      "\n",
      "                                         ingredients  \\\n",
      "0   4 cups Indian borage (Doddapatre) , cleaned a...   \n",
      "1   1 Fish , nicely washed with bones on (I used ...   \n",
      "2   300 grams Colocasia root (Arbi)  1 Green Bell...   \n",
      "3   5 Brinjal (Baingan / Eggplant)  1 Onion  2 To...   \n",
      "4   1 cup Mango (Raw) , diced  2 tablespoons Jagg...   \n",
      "\n",
      "                                        instructions  \\\n",
      "0  To begin making the Doddapatre Tambuli, first ...   \n",
      "1  To begin making the Fish Tandoori recipe, keep...   \n",
      "2  To begin making the Arbi Shimla Mirch Sabzi Re...   \n",
      "3  To begin making the Ambur Style Brinjal Curry ...   \n",
      "4  To begin making Mangalorean Mavinakayi Menasin...   \n",
      "\n",
      "                                           full_text  \n",
      "0  Doddapatre Tambuli Recipe (Karpooravalli Thayi...  \n",
      "1  Fish Tandoori Recipe Have you ever tried out f...  \n",
      "2  Arbi Shimla Mirch Sabzi Recipe – Colocasia Cap...  \n",
      "3  Ambur Style Brinjal Curry Recipe Brinjal Curry...  \n",
      "4  Mavinakayi Menasinakai Curry Recipe  - Raw Man...  \n"
     ]
    }
   ],
   "source": [
    "import pandas as pd\n",
    "\n",
    "# Load the dataset\n",
    "dataset = pd.read_csv(\"recipe_dataset.csv\")\n",
    "\n",
    "# Display the first few rows of the dataset to verify it's loaded correctly\n",
    "print(dataset.head())\n"
   ]
  },
  {
   "cell_type": "code",
   "execution_count": 2,
   "id": "43d2c042-8e19-4a99-adfb-a520f926aa39",
   "metadata": {},
   "outputs": [
    {
     "data": {
      "text/plain": [
       "Index(['name', 'description', 'cuisine', 'course', 'diet', 'prep_time',\n",
       "       'ingredients', 'instructions', 'full_text'],\n",
       "      dtype='object')"
      ]
     },
     "execution_count": 2,
     "metadata": {},
     "output_type": "execute_result"
    }
   ],
   "source": [
    "dataset.columns"
   ]
  },
  {
   "cell_type": "code",
   "execution_count": null,
   "id": "7306a93e-3030-40cd-b2dd-71b4e103ba6e",
   "metadata": {},
   "outputs": [],
   "source": []
  }
 ],
 "metadata": {
  "kernelspec": {
   "display_name": "Python 3 (ipykernel)",
   "language": "python",
   "name": "python3"
  },
  "language_info": {
   "codemirror_mode": {
    "name": "ipython",
    "version": 3
   },
   "file_extension": ".py",
   "mimetype": "text/x-python",
   "name": "python",
   "nbconvert_exporter": "python",
   "pygments_lexer": "ipython3",
   "version": "3.10.4"
  }
 },
 "nbformat": 4,
 "nbformat_minor": 5
}
